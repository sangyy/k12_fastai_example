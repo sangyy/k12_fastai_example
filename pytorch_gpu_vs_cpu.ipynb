{
 "cells": [
  {
   "cell_type": "markdown",
   "metadata": {
    "colab_type": "text",
    "id": "view-in-github"
   },
   "source": [
    "<a href=\"https://colab.research.google.com/github/sangyy/colab/blob/master/pytorch_gpu_vs_cpu.ipynb\" target=\"_parent\"><img src=\"https://colab.research.google.com/assets/colab-badge.svg\" alt=\"Open In Colab\"/></a>"
   ]
  },
  {
   "cell_type": "code",
   "execution_count": 1,
   "metadata": {
    "colab": {},
    "colab_type": "code",
    "id": "L9HM_wtO5mRD"
   },
   "outputs": [],
   "source": [
    "import torch\n",
    "import time"
   ]
  },
  {
   "cell_type": "code",
   "execution_count": 2,
   "metadata": {
    "colab": {
     "base_uri": "https://localhost:8080/",
     "height": 53
    },
    "colab_type": "code",
    "id": "ZvvKi2xQ5mRG",
    "outputId": "c2d5debb-03ac-4063-d54f-9571e3b02cac"
   },
   "outputs": [
    {
     "name": "stdout",
     "output_type": "stream",
     "text": [
      "1.5.1\n",
      "True\n"
     ]
    }
   ],
   "source": [
    "print(torch.__version__)        # 返回pytorch的版本\n",
    "print(torch.cuda.is_available())        # 当CUDA可用时返回True"
   ]
  },
  {
   "cell_type": "code",
   "execution_count": 3,
   "metadata": {
    "colab": {
     "base_uri": "https://localhost:8080/",
     "height": 35
    },
    "colab_type": "code",
    "id": "O-oZL3r05mRI",
    "outputId": "7585961c-947d-4af2-a576-edf8d35bcfa2"
   },
   "outputs": [
    {
     "name": "stdout",
     "output_type": "stream",
     "text": [
      "cpu 0.0971214771270752 tensor(141107.2031)\n"
     ]
    }
   ],
   "source": [
    "a = torch.randn(10000, 1000)    # 返回10000行1000列的张量矩阵\n",
    "b = torch.randn(1000, 2000)     # 返回1000行2000列的张量矩阵\n",
    "\n",
    "t0 = time.time()        # 记录时间\n",
    "c = torch.matmul(a, b)      # 矩阵乘法运算\n",
    "t1 = time.time()        # 记录时间\n",
    "print(a.device, t1 - t0, c.norm(2))     # c.norm(2)表示矩阵c的二范数"
   ]
  },
  {
   "cell_type": "code",
   "execution_count": 4,
   "metadata": {
    "colab": {
     "base_uri": "https://localhost:8080/",
     "height": 35
    },
    "colab_type": "code",
    "id": "8JdgSKCm5mRK",
    "outputId": "db4c3609-242c-4878-cebd-64522d4b339f"
   },
   "outputs": [
    {
     "name": "stdout",
     "output_type": "stream",
     "text": [
      "cuda:0 0.00021386146545410156 tensor(141507.0781, device='cuda:0')\n"
     ]
    }
   ],
   "source": [
    "device = torch.device('cuda')       # 用GPU来运行\n",
    "a = a.to(device)\n",
    "b = b.to(device)\n",
    "\n",
    "# 初次调用GPU，需要数据传送，因此比较慢\n",
    "t0 = time.time()\n",
    "c = torch.matmul(a, b)\n",
    "t2 = time.time()\n",
    "#print(a.device, t2 - t0, c.norm(2))\n",
    "\n",
    "# 这才是GPU处理数据的真实运行时间，当数据量越大，GPU的优势越明显\n",
    "t0 = time.time()\n",
    "c = torch.matmul(a, b)\n",
    "t2 = time.time()\n",
    "print(a.device, t2 - t0, c.norm(2))"
   ]
  },
  {
   "cell_type": "code",
   "execution_count": null,
   "metadata": {
    "colab": {},
    "colab_type": "code",
    "id": "vz4xFA-u5mRL"
   },
   "outputs": [],
   "source": []
  }
 ],
 "metadata": {
  "accelerator": "GPU",
  "colab": {
   "collapsed_sections": [],
   "include_colab_link": true,
   "name": "pytorch gpu vs cpu.ipynb",
   "provenance": []
  },
  "kernelspec": {
   "display_name": "Python 3",
   "language": "python",
   "name": "python3"
  },
  "language_info": {
   "codemirror_mode": {
    "name": "ipython",
    "version": 3
   },
   "file_extension": ".py",
   "mimetype": "text/x-python",
   "name": "python",
   "nbconvert_exporter": "python",
   "pygments_lexer": "ipython3",
   "version": "3.7.7"
  }
 },
 "nbformat": 4,
 "nbformat_minor": 4
}
